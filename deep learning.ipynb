{
 "cells": [
  {
   "cell_type": "code",
   "execution_count": 1,
   "id": "ce0077b8-16ca-4b88-ac5b-d336a751089c",
   "metadata": {},
   "outputs": [],
   "source": [
    "import tensorflow as tf"
   ]
  },
  {
   "cell_type": "code",
   "execution_count": 2,
   "id": "c7d45660-f9d5-4348-9ef1-a2f853c1b287",
   "metadata": {},
   "outputs": [],
   "source": [
    "import numpy as np"
   ]
  },
  {
   "cell_type": "code",
   "execution_count": 3,
   "id": "f5449ff2-eb37-4d99-b424-c0503dea9fe8",
   "metadata": {},
   "outputs": [],
   "source": [
    "from tensorflow import keras"
   ]
  },
  {
   "cell_type": "code",
   "execution_count": 4,
   "id": "0f1a6ea8-9dae-497e-bdb8-b98a888f4414",
   "metadata": {},
   "outputs": [],
   "source": [
    "import matplotlib.pyplot as plt\n",
    "%matplotlib inline"
   ]
  },
  {
   "cell_type": "code",
   "execution_count": 5,
   "id": "c61dbc30-7943-4b55-86e2-5373edfdd461",
   "metadata": {},
   "outputs": [],
   "source": [
    "(x_train,y_train),(x_test,y_test)=keras.datasets.mnist.load_data()"
   ]
  },
  {
   "cell_type": "code",
   "execution_count": 6,
   "id": "6b4a6a4d-8744-4033-825f-f11140417275",
   "metadata": {},
   "outputs": [
    {
     "data": {
      "text/plain": [
       "60000"
      ]
     },
     "execution_count": 6,
     "metadata": {},
     "output_type": "execute_result"
    }
   ],
   "source": [
    "len(x_train)"
   ]
  },
  {
   "cell_type": "code",
   "execution_count": 7,
   "id": "1bc04ed8-9b12-41a9-9964-0ca0ae543f68",
   "metadata": {},
   "outputs": [
    {
     "data": {
      "text/plain": [
       "60000"
      ]
     },
     "execution_count": 7,
     "metadata": {},
     "output_type": "execute_result"
    }
   ],
   "source": [
    "len(y_train)"
   ]
  },
  {
   "cell_type": "code",
   "execution_count": 8,
   "id": "0c68a1e5-851b-4768-9173-a7c4ce4b9c7f",
   "metadata": {},
   "outputs": [
    {
     "data": {
      "text/plain": [
       "10000"
      ]
     },
     "execution_count": 8,
     "metadata": {},
     "output_type": "execute_result"
    }
   ],
   "source": [
    "len(x_test)"
   ]
  },
  {
   "cell_type": "code",
   "execution_count": 9,
   "id": "3997ddb9-fc5b-49d9-9df3-c47aa99f4049",
   "metadata": {},
   "outputs": [
    {
     "data": {
      "text/plain": [
       "array([[  0,   0,   0,   0,   0,   0,   0,   0,   0,   0,   0,   0,   0,\n",
       "          0,   0,   0,   0,   0,   0,   0,   0,   0,   0,   0,   0,   0,\n",
       "          0,   0],\n",
       "       [  0,   0,   0,   0,   0,   0,   0,   0,   0,   0,   0,   0,   0,\n",
       "          0,   0,   0,   0,   0,   0,   0,   0,   0,   0,   0,   0,   0,\n",
       "          0,   0],\n",
       "       [  0,   0,   0,   0,   0,   0,   0,   0,   0,   0,   0,   0,   0,\n",
       "          0,   0,   0,   0,   0,   0,   0,   0,   0,   0,   0,   0,   0,\n",
       "          0,   0],\n",
       "       [  0,   0,   0,   0,   0,   0,   0,   0,   0,   0,   0,   0,   0,\n",
       "          0,   0,   0,   0,   0,   0,   0,   0,   0,   0,   0,   0,   0,\n",
       "          0,   0],\n",
       "       [  0,   0,   0,   0,   0,   0,   0,   0,   0,   0,   0,   0,   0,\n",
       "          0,   0,   0,   0,   0,   0,   0,   0,   0,   0,   0,   0,   0,\n",
       "          0,   0],\n",
       "       [  0,   0,   0,   0,   0,   0,   0,   0,   0,   0,   0,   0,   3,\n",
       "         18,  18,  18, 126, 136, 175,  26, 166, 255, 247, 127,   0,   0,\n",
       "          0,   0],\n",
       "       [  0,   0,   0,   0,   0,   0,   0,   0,  30,  36,  94, 154, 170,\n",
       "        253, 253, 253, 253, 253, 225, 172, 253, 242, 195,  64,   0,   0,\n",
       "          0,   0],\n",
       "       [  0,   0,   0,   0,   0,   0,   0,  49, 238, 253, 253, 253, 253,\n",
       "        253, 253, 253, 253, 251,  93,  82,  82,  56,  39,   0,   0,   0,\n",
       "          0,   0],\n",
       "       [  0,   0,   0,   0,   0,   0,   0,  18, 219, 253, 253, 253, 253,\n",
       "        253, 198, 182, 247, 241,   0,   0,   0,   0,   0,   0,   0,   0,\n",
       "          0,   0],\n",
       "       [  0,   0,   0,   0,   0,   0,   0,   0,  80, 156, 107, 253, 253,\n",
       "        205,  11,   0,  43, 154,   0,   0,   0,   0,   0,   0,   0,   0,\n",
       "          0,   0],\n",
       "       [  0,   0,   0,   0,   0,   0,   0,   0,   0,  14,   1, 154, 253,\n",
       "         90,   0,   0,   0,   0,   0,   0,   0,   0,   0,   0,   0,   0,\n",
       "          0,   0],\n",
       "       [  0,   0,   0,   0,   0,   0,   0,   0,   0,   0,   0, 139, 253,\n",
       "        190,   2,   0,   0,   0,   0,   0,   0,   0,   0,   0,   0,   0,\n",
       "          0,   0],\n",
       "       [  0,   0,   0,   0,   0,   0,   0,   0,   0,   0,   0,  11, 190,\n",
       "        253,  70,   0,   0,   0,   0,   0,   0,   0,   0,   0,   0,   0,\n",
       "          0,   0],\n",
       "       [  0,   0,   0,   0,   0,   0,   0,   0,   0,   0,   0,   0,  35,\n",
       "        241, 225, 160, 108,   1,   0,   0,   0,   0,   0,   0,   0,   0,\n",
       "          0,   0],\n",
       "       [  0,   0,   0,   0,   0,   0,   0,   0,   0,   0,   0,   0,   0,\n",
       "         81, 240, 253, 253, 119,  25,   0,   0,   0,   0,   0,   0,   0,\n",
       "          0,   0],\n",
       "       [  0,   0,   0,   0,   0,   0,   0,   0,   0,   0,   0,   0,   0,\n",
       "          0,  45, 186, 253, 253, 150,  27,   0,   0,   0,   0,   0,   0,\n",
       "          0,   0],\n",
       "       [  0,   0,   0,   0,   0,   0,   0,   0,   0,   0,   0,   0,   0,\n",
       "          0,   0,  16,  93, 252, 253, 187,   0,   0,   0,   0,   0,   0,\n",
       "          0,   0],\n",
       "       [  0,   0,   0,   0,   0,   0,   0,   0,   0,   0,   0,   0,   0,\n",
       "          0,   0,   0,   0, 249, 253, 249,  64,   0,   0,   0,   0,   0,\n",
       "          0,   0],\n",
       "       [  0,   0,   0,   0,   0,   0,   0,   0,   0,   0,   0,   0,   0,\n",
       "          0,  46, 130, 183, 253, 253, 207,   2,   0,   0,   0,   0,   0,\n",
       "          0,   0],\n",
       "       [  0,   0,   0,   0,   0,   0,   0,   0,   0,   0,   0,   0,  39,\n",
       "        148, 229, 253, 253, 253, 250, 182,   0,   0,   0,   0,   0,   0,\n",
       "          0,   0],\n",
       "       [  0,   0,   0,   0,   0,   0,   0,   0,   0,   0,  24, 114, 221,\n",
       "        253, 253, 253, 253, 201,  78,   0,   0,   0,   0,   0,   0,   0,\n",
       "          0,   0],\n",
       "       [  0,   0,   0,   0,   0,   0,   0,   0,  23,  66, 213, 253, 253,\n",
       "        253, 253, 198,  81,   2,   0,   0,   0,   0,   0,   0,   0,   0,\n",
       "          0,   0],\n",
       "       [  0,   0,   0,   0,   0,   0,  18, 171, 219, 253, 253, 253, 253,\n",
       "        195,  80,   9,   0,   0,   0,   0,   0,   0,   0,   0,   0,   0,\n",
       "          0,   0],\n",
       "       [  0,   0,   0,   0,  55, 172, 226, 253, 253, 253, 253, 244, 133,\n",
       "         11,   0,   0,   0,   0,   0,   0,   0,   0,   0,   0,   0,   0,\n",
       "          0,   0],\n",
       "       [  0,   0,   0,   0, 136, 253, 253, 253, 212, 135, 132,  16,   0,\n",
       "          0,   0,   0,   0,   0,   0,   0,   0,   0,   0,   0,   0,   0,\n",
       "          0,   0],\n",
       "       [  0,   0,   0,   0,   0,   0,   0,   0,   0,   0,   0,   0,   0,\n",
       "          0,   0,   0,   0,   0,   0,   0,   0,   0,   0,   0,   0,   0,\n",
       "          0,   0],\n",
       "       [  0,   0,   0,   0,   0,   0,   0,   0,   0,   0,   0,   0,   0,\n",
       "          0,   0,   0,   0,   0,   0,   0,   0,   0,   0,   0,   0,   0,\n",
       "          0,   0],\n",
       "       [  0,   0,   0,   0,   0,   0,   0,   0,   0,   0,   0,   0,   0,\n",
       "          0,   0,   0,   0,   0,   0,   0,   0,   0,   0,   0,   0,   0,\n",
       "          0,   0]], dtype=uint8)"
      ]
     },
     "execution_count": 9,
     "metadata": {},
     "output_type": "execute_result"
    }
   ],
   "source": [
    "x_train[0]"
   ]
  },
  {
   "cell_type": "code",
   "execution_count": 10,
   "id": "001643e0-3115-4e5d-89a7-e2c17babaf0e",
   "metadata": {},
   "outputs": [
    {
     "data": {
      "text/plain": [
       "<matplotlib.image.AxesImage at 0x262aad2b260>"
      ]
     },
     "execution_count": 10,
     "metadata": {},
     "output_type": "execute_result"
    },
    {
     "data": {
      "image/png": "[encoded data removed]",
      "text/plain": [
       "<Figure size 480x480 with 1 Axes>"
      ]
     },
     "metadata": {},
     "output_type": "display_data"
    }
   ],
   "source": [
    "plt.matshow(x_train[0])"
   ]
  },
  {
   "cell_type": "code",
   "execution_count": 11,
   "id": "235e7e4b-3380-4f5c-876f-8e3d662ce9a0",
   "metadata": {},
   "outputs": [
    {
     "data": {
      "text/plain": [
       "5"
      ]
     },
     "execution_count": 11,
     "metadata": {},
     "output_type": "execute_result"
    }
   ],
   "source": [
    "y_train[0]"
   ]
  },
  {
   "cell_type": "code",
   "execution_count": 12,
   "id": "dea11a64-4032-4b86-82c4-db920f746b15",
   "metadata": {},
   "outputs": [
    {
     "data": {
      "text/plain": [
       "<matplotlib.image.AxesImage at 0x262ae2664e0>"
      ]
     },
     "execution_count": 12,
     "metadata": {},
     "output_type": "execute_result"
    },
    {
     "data": {
      "image/png": "[encoded data removed]",
      "text/plain": [
       "<Figure size 480x480 with 1 Axes>"
      ]
     },
     "metadata": {},
     "output_type": "display_data"
    }
   ],
   "source": [
    "plt.matshow(x_train[2])"
   ]
  },
  {
   "cell_type": "code",
   "execution_count": 13,
   "id": "dfae88f0-f892-4375-aa43-b33f708b2307",
   "metadata": {},
   "outputs": [
    {
     "data": {
      "text/plain": [
       "4"
      ]
     },
     "execution_count": 13,
     "metadata": {},
     "output_type": "execute_result"
    }
   ],
   "source": [
    "y_train[2]"
   ]
  },
  {
   "cell_type": "code",
   "execution_count": 14,
   "id": "ee8b27ca-feab-4412-81ae-d72ae2c1dc57",
   "metadata": {},
   "outputs": [],
   "source": [
    "# we need to flatten them because the digits need to be in a one dimensional array so that using that we can easily find the number"
   ]
  },
  {
   "cell_type": "code",
   "execution_count": 15,
   "id": "80e572d2-5974-48ef-b7c9-75812f3eb41a",
   "metadata": {},
   "outputs": [],
   "source": [
    "# to flatten we need to convert it into 28*28  as its dimentions are 28:28"
   ]
  },
  {
   "cell_type": "code",
   "execution_count": 16,
   "id": "232ce6c6-2440-4baf-a451-c2c4ec455a99",
   "metadata": {},
   "outputs": [
    {
     "data": {
      "text/plain": [
       "(60000, 28, 28)"
      ]
     },
     "execution_count": 16,
     "metadata": {},
     "output_type": "execute_result"
    }
   ],
   "source": [
    "x_train.shape"
   ]
  },
  {
   "cell_type": "code",
   "execution_count": 17,
   "id": "de80d987-92d2-4199-832f-0d839fe84b0e",
   "metadata": {},
   "outputs": [],
   "source": [
    "x_train_reshape=x_train.reshape(len(x_train),28*28)"
   ]
  },
  {
   "cell_type": "code",
   "execution_count": 19,
   "id": "084a8669-9f96-46c4-bb4d-119517451c56",
   "metadata": {},
   "outputs": [
    {
     "data": {
      "text/plain": [
       "(60000, 784)"
      ]
     },
     "execution_count": 19,
     "metadata": {},
     "output_type": "execute_result"
    }
   ],
   "source": [
    "x_train_reshape.shape"
   ]
  },
  {
   "cell_type": "code",
   "execution_count": 22,
   "id": "fc60a512-301c-43e0-804f-da75f554bccc",
   "metadata": {},
   "outputs": [
    {
     "data": {
      "text/plain": [
       "array([  0,   0,   0,   0,   0,   0,   0,   0,   0,   0,   0,   0,   0,\n",
       "         0,   0,   0,   0,   0,   0,   0,   0,   0,   0,   0,   0,   0,\n",
       "         0,   0,   0,   0,   0,   0,   0,   0,   0,   0,   0,   0,   0,\n",
       "         0,   0,   0,   0,   0,   0,   0,   0,   0,   0,   0,   0,   0,\n",
       "         0,   0,   0,   0,   0,   0,   0,   0,   0,   0,   0,   0,   0,\n",
       "         0,   0,   0,   0,   0,   0,   0,   0,   0,   0,   0,   0,   0,\n",
       "         0,   0,   0,   0,   0,   0,   0,   0,   0,   0,   0,   0,   0,\n",
       "         0,   0,   0,   0,   0,   0,   0,   0,   0,   0,   0,   0,   0,\n",
       "         0,   0,   0,   0,   0,   0,   0,   0,   0,   0,   0,   0,   0,\n",
       "         0,   0,   0,   0,   0,   0,   0,   0,   0,   0,   0,   0,   0,\n",
       "         0,   0,   0,   0,   0,   0,   0,   0,   0,   0,   0,   0,   0,\n",
       "         0,   0,   0,   0,   0,   0,   0,   0,   0,   3,  18,  18,  18,\n",
       "       126, 136, 175,  26, 166, 255, 247, 127,   0,   0,   0,   0,   0,\n",
       "         0,   0,   0,   0,   0,   0,   0,  30,  36,  94, 154, 170, 253,\n",
       "       253, 253, 253, 253, 225, 172, 253, 242, 195,  64,   0,   0,   0,\n",
       "         0,   0,   0,   0,   0,   0,   0,   0,  49, 238, 253, 253, 253,\n",
       "       253, 253, 253, 253, 253, 251,  93,  82,  82,  56,  39,   0,   0,\n",
       "         0,   0,   0,   0,   0,   0,   0,   0,   0,   0,  18, 219, 253,\n",
       "       253, 253, 253, 253, 198, 182, 247, 241,   0,   0,   0,   0,   0,\n",
       "         0,   0,   0,   0,   0,   0,   0,   0,   0,   0,   0,   0,   0,\n",
       "        80, 156, 107, 253, 253, 205,  11,   0,  43, 154,   0,   0,   0,\n",
       "         0,   0,   0,   0,   0,   0,   0,   0,   0,   0,   0,   0,   0,\n",
       "         0,   0,   0,  14,   1, 154, 253,  90,   0,   0,   0,   0,   0,\n",
       "         0,   0,   0,   0,   0,   0,   0,   0,   0,   0,   0,   0,   0,\n",
       "         0,   0,   0,   0,   0,   0,   0, 139, 253, 190,   2,   0,   0,\n",
       "         0,   0,   0,   0,   0,   0,   0,   0,   0,   0,   0,   0,   0,\n",
       "         0,   0,   0,   0,   0,   0,   0,   0,   0,  11, 190, 253,  70,\n",
       "         0,   0,   0,   0,   0,   0,   0,   0,   0,   0,   0,   0,   0,\n",
       "         0,   0,   0,   0,   0,   0,   0,   0,   0,   0,   0,   0,  35,\n",
       "       241, 225, 160, 108,   1,   0,   0,   0,   0,   0,   0,   0,   0,\n",
       "         0,   0,   0,   0,   0,   0,   0,   0,   0,   0,   0,   0,   0,\n",
       "         0,   0,  81, 240, 253, 253, 119,  25,   0,   0,   0,   0,   0,\n",
       "         0,   0,   0,   0,   0,   0,   0,   0,   0,   0,   0,   0,   0,\n",
       "         0,   0,   0,   0,   0,  45, 186, 253, 253, 150,  27,   0,   0,\n",
       "         0,   0,   0,   0,   0,   0,   0,   0,   0,   0,   0,   0,   0,\n",
       "         0,   0,   0,   0,   0,   0,   0,   0,  16,  93, 252, 253, 187,\n",
       "         0,   0,   0,   0,   0,   0,   0,   0,   0,   0,   0,   0,   0,\n",
       "         0,   0,   0,   0,   0,   0,   0,   0,   0,   0,   0,   0, 249,\n",
       "       253, 249,  64,   0,   0,   0,   0,   0,   0,   0,   0,   0,   0,\n",
       "         0,   0,   0,   0,   0,   0,   0,   0,   0,   0,   0,  46, 130,\n",
       "       183, 253, 253, 207,   2,   0,   0,   0,   0,   0,   0,   0,   0,\n",
       "         0,   0,   0,   0,   0,   0,   0,   0,   0,   0,   0,  39, 148,\n",
       "       229, 253, 253, 253, 250, 182,   0,   0,   0,   0,   0,   0,   0,\n",
       "         0,   0,   0,   0,   0,   0,   0,   0,   0,   0,   0,  24, 114,\n",
       "       221, 253, 253, 253, 253, 201,  78,   0,   0,   0,   0,   0,   0,\n",
       "         0,   0,   0,   0,   0,   0,   0,   0,   0,   0,   0,  23,  66,\n",
       "       213, 253, 253, 253, 253, 198,  81,   2,   0,   0,   0,   0,   0,\n",
       "         0,   0,   0,   0,   0,   0,   0,   0,   0,   0,   0,  18, 171,\n",
       "       219, 253, 253, 253, 253, 195,  80,   9,   0,   0,   0,   0,   0,\n",
       "         0,   0,   0,   0,   0,   0,   0,   0,   0,   0,   0,  55, 172,\n",
       "       226, 253, 253, 253, 253, 244, 133,  11,   0,   0,   0,   0,   0,\n",
       "         0,   0,   0,   0,   0,   0,   0,   0,   0,   0,   0,   0,   0,\n",
       "       136, 253, 253, 253, 212, 135, 132,  16,   0,   0,   0,   0,   0,\n",
       "         0,   0,   0,   0,   0,   0,   0,   0,   0,   0,   0,   0,   0,\n",
       "         0,   0,   0,   0,   0,   0,   0,   0,   0,   0,   0,   0,   0,\n",
       "         0,   0,   0,   0,   0,   0,   0,   0,   0,   0,   0,   0,   0,\n",
       "         0,   0,   0,   0,   0,   0,   0,   0,   0,   0,   0,   0,   0,\n",
       "         0,   0,   0,   0,   0,   0,   0,   0,   0,   0,   0,   0,   0,\n",
       "         0,   0,   0,   0,   0,   0,   0,   0,   0,   0,   0,   0,   0,\n",
       "         0,   0,   0,   0,   0,   0,   0,   0,   0,   0,   0,   0,   0,\n",
       "         0,   0,   0,   0], dtype=uint8)"
      ]
     },
     "execution_count": 22,
     "metadata": {},
     "output_type": "execute_result"
    }
   ],
   "source": [
    "x_train_reshape[0]"
   ]
  },
  {
   "cell_type": "code",
   "execution_count": 23,
   "id": "74ee949e-1ea7-43b9-831b-38f6ec4c6dd9",
   "metadata": {},
   "outputs": [
    {
     "data": {
      "text/plain": [
       "array([[0, 0, 0, ..., 0, 0, 0],\n",
       "       [0, 0, 0, ..., 0, 0, 0],\n",
       "       [0, 0, 0, ..., 0, 0, 0],\n",
       "       ...,\n",
       "       [0, 0, 0, ..., 0, 0, 0],\n",
       "       [0, 0, 0, ..., 0, 0, 0],\n",
       "       [0, 0, 0, ..., 0, 0, 0]], dtype=uint8)"
      ]
     },
     "execution_count": 23,
     "metadata": {},
     "output_type": "execute_result"
    }
   ],
   "source": [
    "x_test_reshape=x_test.reshape(len(x_test),28*28)\n",
    "x_test_reshape"
   ]
  },
  {
   "cell_type": "code",
   "execution_count": 24,
   "id": "113d40f8-d65f-4c3a-bdad-7701566cc3a4",
   "metadata": {},
   "outputs": [],
   "source": [
    "from sklearn.preprocessing import StandardScaler"
   ]
  },
  {
   "cell_type": "code",
   "execution_count": 25,
   "id": "3cb5e8a6-dc3d-4cb5-979e-5512221e7722",
   "metadata": {},
   "outputs": [],
   "source": [
    "scalar=StandardScaler()"
   ]
  },
  {
   "cell_type": "code",
   "execution_count": 26,
   "id": "c9f28614-c578-4982-9bdb-71e20e100e6f",
   "metadata": {},
   "outputs": [],
   "source": [
    "x_trained_scaled=scalar.fit_transform(x_train_reshape)"
   ]
  },
  {
   "cell_type": "code",
   "execution_count": 27,
   "id": "3eb38353-0b12-4d6e-96ca-9778593cf4e7",
   "metadata": {},
   "outputs": [],
   "source": [
    "x_test_scaled=scalar.fit_transform(x_test_reshape)"
   ]
  },
  {
   "cell_type": "code",
   "execution_count": 28,
   "id": "d25d07cb-e0d7-452f-a95f-bc70faa4bd15",
   "metadata": {},
   "outputs": [
    {
     "data": {
      "text/plain": [
       "array([ 0.00000000e+00,  0.00000000e+00,  0.00000000e+00,  0.00000000e+00,\n",
       "        0.00000000e+00,  0.00000000e+00,  0.00000000e+00,  0.00000000e+00,\n",
       "        0.00000000e+00,  0.00000000e+00,  0.00000000e+00,  0.00000000e+00,\n",
       "       -4.41807799e-03, -5.75481961e-03, -4.08251693e-03, -4.08251693e-03,\n",
       "        0.00000000e+00,  0.00000000e+00,  0.00000000e+00,  0.00000000e+00,\n",
       "        0.00000000e+00,  0.00000000e+00,  0.00000000e+00,  0.00000000e+00,\n",
       "        0.00000000e+00,  0.00000000e+00,  0.00000000e+00,  0.00000000e+00,\n",
       "        0.00000000e+00,  0.00000000e+00,  0.00000000e+00,  0.00000000e+00,\n",
       "       -4.08251693e-03, -4.70968827e-03, -8.79934640e-03, -1.15905591e-02,\n",
       "       -1.47589798e-02, -1.92848546e-02, -2.46717975e-02, -2.90710271e-02,\n",
       "       -3.05926583e-02, -3.11640127e-02, -3.19628719e-02, -3.02025355e-02,\n",
       "       -3.13102175e-02, -2.83833960e-02, -2.31191906e-02, -1.91666260e-02,\n",
       "       -1.67723008e-02, -1.09963601e-02, -8.32486080e-03, -4.38069356e-03,\n",
       "        0.00000000e+00,  0.00000000e+00,  0.00000000e+00,  0.00000000e+00,\n",
       "        0.00000000e+00,  0.00000000e+00, -4.08251693e-03, -5.39534598e-03,\n",
       "       -8.52241235e-03, -1.19850363e-02, -1.76534777e-02, -2.77108989e-02,\n",
       "       -3.70200943e-02, -5.21512802e-02, -6.70362007e-02, -8.30170484e-02,\n",
       "       -9.93792978e-02, -1.15184128e-01, -1.29133256e-01, -1.38394677e-01,\n",
       "       -1.38883631e-01, -1.31843438e-01, -1.20429522e-01, -1.01890795e-01,\n",
       "       -7.86049044e-02, -5.69956130e-02, -3.96576839e-02, -2.37283861e-02,\n",
       "       -1.40883463e-02, -7.83084068e-03,  0.00000000e+00,  0.00000000e+00,\n",
       "        0.00000000e+00,  0.00000000e+00, -5.36837753e-03, -8.87060589e-03,\n",
       "       -1.40708170e-02, -2.21468098e-02, -3.51801368e-02, -5.50236802e-02,\n",
       "       -7.90961321e-02, -1.07649012e-01, -1.37169936e-01, -1.67105761e-01,\n",
       "       -1.96008755e-01, -2.24491114e-01, -2.48655991e-01, -2.62117971e-01,\n",
       "       -2.62596902e-01, -2.47855903e-01, -2.21947003e-01, -1.87211405e-01,\n",
       "       -1.47640132e-01, -1.08164364e-01, -7.68121117e-02, -4.70752996e-02,\n",
       "       -3.02019676e-02, -1.52412436e-02, -5.28371965e-03,  0.00000000e+00,\n",
       "        0.00000000e+00, -4.08251693e-03, -7.76342302e-03, -1.48932548e-02,\n",
       "       -2.39627505e-02, -5.03408980e-02, -7.87674703e-02, -1.16181540e-01,\n",
       "       -1.61247562e-01, -2.11961635e-01, -2.66898731e-01, -3.25678010e-01,\n",
       "       -3.90241548e-01, -4.52076376e-01, -4.99397984e-01, -5.23428324e-01,\n",
       "       -5.17618894e-01, -4.80902419e-01, -4.23079694e-01, -3.56740395e-01,\n",
       "       -2.83683648e-01, -2.16836661e-01, -1.58524380e-01, -1.08784581e-01,\n",
       "       -7.09225309e-02, -3.89534819e-02, -1.42523852e-02, -5.77049806e-03,\n",
       "        0.00000000e+00,  0.00000000e+00, -1.19017406e-02, -2.20501560e-02,\n",
       "       -5.18380750e-02, -9.06597035e-02, -1.39667106e-01, -1.97082121e-01,\n",
       "       -2.64384728e-01, -3.40730442e-01, -4.22535749e-01, -5.15408649e-01,\n",
       "       -5.84660366e-01, -5.41363044e-01, -6.26156785e-01, -6.69145031e-01,\n",
       "        3.43637162e-01,  5.31056017e-01,  1.10236573e+00, -2.65802578e-01,\n",
       "        1.71565971e+00,  3.77344822e+00,  4.93900230e+00,  3.45006811e+00,\n",
       "       -1.31080130e-01, -7.48460374e-02, -3.19301291e-02, -8.20891834e-03,\n",
       "        0.00000000e+00, -5.57015293e-03, -1.56619271e-02, -3.63656606e-02,\n",
       "       -7.90243079e-02, -1.33289086e-01, -1.99154411e-01, -2.75429691e-01,\n",
       "        8.82421166e-02, -1.60018965e-02,  4.42476487e-01,  8.18775057e-01,\n",
       "        7.49339511e-01,  1.32200212e+00,  1.19900231e+00,  1.14748071e+00,\n",
       "        1.16876765e+00,  1.25693737e+00,  1.17313576e+00,  9.33441548e-01,\n",
       "        2.13777179e+00,  2.64653072e+00,  2.81275280e+00,  1.14339095e+00,\n",
       "       -1.72939702e-01, -1.04104240e-01, -4.83176220e-02, -1.47080183e-02,\n",
       "       -4.08251693e-03, -1.32310093e-02, -2.62438209e-02, -5.91585908e-02,\n",
       "       -1.13004853e-01, -1.78441525e-01, -2.58004810e-01,  4.14936751e-01,\n",
       "        2.55139991e+00,  2.15784271e+00,  1.76151117e+00,  1.47855282e+00,\n",
       "        1.28620376e+00,  1.15934214e+00,  1.08883060e+00,  1.06792169e+00,\n",
       "        1.08561216e+00,  1.12333034e+00, -1.85138147e-01, -1.08110686e-01,\n",
       "        1.20942182e-01,  1.04310652e-01,  1.53347815e-01, -2.87681279e-01,\n",
       "       -1.97007025e-01, -1.21228940e-01, -5.68086109e-02, -1.53906680e-02,\n",
       "       -5.02549298e-03, -1.73205192e-02, -4.30805391e-02, -8.52488969e-02,\n",
       "       -1.39458369e-01, -2.10883308e-01, -3.00017977e-01, -1.59588571e-01,\n",
       "        1.95384078e+00,  1.84773395e+00,  1.51729633e+00,  1.30892138e+00,\n",
       "        1.20210616e+00,  1.16376234e+00,  6.74199715e-01,  5.38435658e-01,\n",
       "        1.12192712e+00,  1.07058610e+00, -1.04378667e+00, -9.12978504e-01,\n",
       "       -7.39191314e-01, -5.71005505e-01, -4.23671002e-01, -2.98196207e-01,\n",
       "       -1.97686135e-01, -1.20683815e-01, -5.39356285e-02, -1.35055434e-02,\n",
       "       -5.90571261e-03, -2.11096679e-02, -5.29890369e-02, -9.30784924e-02,\n",
       "       -1.50398734e-01, -2.26191023e-01, -3.23645340e-01, -4.42131217e-01,\n",
       "        2.70213751e-01,  7.45930827e-01,  7.23832933e-02,  1.27771203e+00,\n",
       "        1.27734539e+00,  9.12254680e-01, -8.07963349e-01, -9.13935971e-01,\n",
       "       -5.60996653e-01,  3.90063789e-01, -9.99486551e-01, -9.01508612e-01,\n",
       "       -7.36681516e-01, -5.67589421e-01, -4.20171899e-01, -2.90174595e-01,\n",
       "       -1.81482351e-01, -1.04939775e-01, -4.72131729e-02, -1.41308656e-02,\n",
       "       -5.77280519e-03, -2.26322771e-02, -5.28031747e-02, -9.22058067e-02,\n",
       "       -1.47451700e-01, -2.27284588e-01, -3.32428316e-01, -4.62696158e-01,\n",
       "       -6.19033521e-01, -6.52626518e-01, -8.99148251e-01,  4.58886633e-01,\n",
       "        1.47356894e+00,  6.77134887e-02, -7.71412102e-01, -8.03560093e-01,\n",
       "       -8.73939297e-01, -9.51575414e-01, -9.62131065e-01, -8.63473259e-01,\n",
       "       -7.01324246e-01, -5.37396564e-01, -3.96771027e-01, -2.71222642e-01,\n",
       "       -1.59324464e-01, -8.12584087e-02, -3.69508670e-02, -1.18733992e-02,\n",
       "       -7.05517396e-03, -2.07711768e-02, -4.72035624e-02, -8.20038362e-02,\n",
       "       -1.37457285e-01, -2.25181955e-01, -3.38492381e-01, -4.82934997e-01,\n",
       "       -6.48288219e-01, -8.09805311e-01, -8.96460461e-01,  4.05564687e-01,\n",
       "        1.64634567e+00,  1.16516320e+00, -7.21489008e-01, -8.02210470e-01,\n",
       "       -9.01262815e-01, -9.77722928e-01, -9.55547943e-01, -8.24902899e-01,\n",
       "       -6.55987835e-01, -4.99364187e-01, -3.69573309e-01, -2.58464407e-01,\n",
       "       -1.49695715e-01, -6.11113564e-02, -2.80115688e-02, -9.12509965e-03,\n",
       "       -5.30435130e-03, -1.62383999e-02, -3.63786148e-02, -6.85820105e-02,\n",
       "       -1.27368499e-01, -2.26143360e-01, -3.52202906e-01, -5.07583513e-01,\n",
       "       -6.79449640e-01, -8.28251048e-01, -8.88830036e-01, -7.40225109e-01,\n",
       "        1.06068287e+00,  1.68492907e+00, -1.77575688e-01, -9.17683490e-01,\n",
       "       -1.02909594e+00, -1.05827900e+00, -9.65674043e-01, -7.94476763e-01,\n",
       "       -6.16749363e-01, -4.70072884e-01, -3.55124414e-01, -2.55407545e-01,\n",
       "       -1.53824513e-01, -5.24542821e-02, -2.15058651e-02, -9.92198161e-03,\n",
       "       -4.08251693e-03, -1.09343854e-02, -2.55447979e-02, -5.70730810e-02,\n",
       "       -1.24662020e-01, -2.38498173e-01, -3.73258897e-01, -5.33136068e-01,\n",
       "       -7.02094140e-01, -8.37450050e-01, -8.80074249e-01, -8.41014273e-01,\n",
       "       -4.87694929e-01,  1.32485786e+00,  9.98375471e-01,  3.22814268e-01,\n",
       "       -1.98337189e-01, -1.11994100e+00, -9.76070413e-01, -7.75195395e-01,\n",
       "       -5.94446605e-01, -4.60910238e-01, -3.55500546e-01, -2.63549180e-01,\n",
       "       -1.64503687e-01, -5.95130325e-02, -2.33686679e-02, -7.40432376e-03,\n",
       "       -4.08251693e-03, -7.98834543e-03, -1.82964530e-02, -5.13394345e-02,\n",
       "       -1.29346397e-01, -2.57521393e-01, -3.95011330e-01, -5.50421723e-01,\n",
       "       -7.07323088e-01, -8.26049817e-01, -8.67853151e-01, -8.60743722e-01,\n",
       "       -9.04035680e-01, -3.08572618e-01,  9.64876914e-01,  1.03583353e+00,\n",
       "        1.05517267e+00, -8.08498334e-02, -7.38205686e-01, -7.63011316e-01,\n",
       "       -5.97027040e-01, -4.72019989e-01, -3.68370412e-01, -2.73325316e-01,\n",
       "       -1.73386634e-01, -6.89427199e-02, -2.46446573e-02, -6.98490193e-03,\n",
       "       -4.77028006e-03, -4.18942802e-03, -1.86482564e-02, -5.32721237e-02,\n",
       "       -1.40420517e-01, -2.77180624e-01, -4.12209008e-01, -5.54003398e-01,\n",
       "       -6.92005443e-01, -7.92583140e-01, -8.41940836e-01, -8.69766983e-01,\n",
       "       -9.58664347e-01, -1.09410266e+00, -8.05303712e-01,  4.28897581e-01,\n",
       "        1.08836286e+00,  1.16827871e+00,  4.42989478e-01, -4.93267386e-01,\n",
       "       -6.09787183e-01, -4.86753939e-01, -3.80896777e-01, -2.78298890e-01,\n",
       "       -1.75491552e-01, -7.70261425e-02, -2.96263040e-02, -9.11024024e-03,\n",
       "       -4.08251693e-03, -6.70727737e-03, -2.16014323e-02, -6.07076923e-02,\n",
       "       -1.57022412e-01, -2.97163168e-01, -4.22306798e-01, -5.45726707e-01,\n",
       "       -6.59100289e-01, -7.41250552e-01, -7.88379565e-01, -8.33967293e-01,\n",
       "       -9.19413398e-01, -1.02595562e+00, -1.12277551e+00, -1.00128625e+00,\n",
       "       -2.50181723e-01,  1.26567434e+00,  1.45264065e+00,  1.05397980e+00,\n",
       "       -6.15621643e-01, -4.93079765e-01, -3.79874281e-01, -2.73517649e-01,\n",
       "       -1.73539121e-01, -8.40501482e-02, -3.41624422e-02, -8.93964748e-03,\n",
       "        0.00000000e+00, -8.93208845e-03, -2.53977634e-02, -7.39001757e-02,\n",
       "       -1.77860047e-01, -3.13383430e-01, -4.29013061e-01, -5.35088936e-01,\n",
       "       -6.20781988e-01, -6.82689238e-01, -7.23470137e-01, -7.65558979e-01,\n",
       "       -8.25070425e-01, -9.19390235e-01, -1.00626013e+00, -1.03281505e+00,\n",
       "       -1.01067269e+00,  1.31519954e+00,  1.48115098e+00,  1.64560188e+00,\n",
       "        4.82880931e-02, -4.85156292e-01, -3.68041978e-01, -2.60781824e-01,\n",
       "       -1.68333757e-01, -8.85426370e-02, -3.59362339e-02, -1.07108129e-02,\n",
       "       -5.90596678e-03, -6.35211414e-03, -3.33202141e-02, -9.13048630e-02,\n",
       "       -1.99108031e-01, -3.27967412e-01, -4.38995427e-01, -5.34454088e-01,\n",
       "       -6.05947897e-01, -6.59405094e-01, -6.97848366e-01, -7.30422894e-01,\n",
       "       -7.81125667e-01, -8.71688552e-01, -5.44696352e-01,  1.60415053e-01,\n",
       "        6.50220851e-01,  1.34279902e+00,  1.46193998e+00,  1.24594172e+00,\n",
       "       -5.73926496e-01, -4.63429150e-01, -3.48771144e-01, -2.45884747e-01,\n",
       "       -1.58200936e-01, -8.54379627e-02, -3.15579616e-02, -9.76041412e-03,\n",
       "       -4.08251693e-03, -1.12816627e-02, -3.97571016e-02, -1.03852335e-01,\n",
       "       -2.11980971e-01, -3.37477889e-01, -4.51701933e-01, -5.52131610e-01,\n",
       "       -6.31886475e-01, -6.93224391e-01, -7.38384900e-01, -7.70730767e-01,\n",
       "       -4.69506063e-01,  4.22382973e-01,  1.04567034e+00,  1.21745436e+00,\n",
       "        1.23935680e+00,  1.31032797e+00,  1.44686109e+00,  1.07419019e+00,\n",
       "       -5.55385654e-01, -4.27074606e-01, -3.16810480e-01, -2.20685803e-01,\n",
       "       -1.41057264e-01, -7.81710423e-02, -2.91825785e-02, -8.02578597e-03,\n",
       "        0.00000000e+00, -1.03421049e-02, -4.32736220e-02, -1.09167014e-01,\n",
       "       -2.09032573e-01, -3.30224641e-01, -4.54875266e-01, -5.69196807e-01,\n",
       "       -6.72943600e-01, -7.60601226e-01, -6.08747781e-01,  1.45933875e-01,\n",
       "        1.02756383e+00,  1.21554325e+00,  1.14867049e+00,  1.14592402e+00,\n",
       "        1.21167774e+00,  8.79504318e-01, -5.51616072e-02, -6.26990956e-01,\n",
       "       -4.88062775e-01, -3.68951144e-01, -2.69292226e-01, -1.87212623e-01,\n",
       "       -1.21627434e-01, -6.64938197e-02, -2.60330031e-02, -5.77331594e-03,\n",
       "       -4.08251693e-03, -1.00095035e-02, -4.04987315e-02, -9.99847079e-02,\n",
       "       -1.88201724e-01, -2.99631312e-01, -4.27248469e-01, -5.55251360e-01,\n",
       "       -4.59112688e-01, -1.95242950e-01,  1.00790158e+00,  1.26095332e+00,\n",
       "        1.17394853e+00,  1.11115667e+00,  1.09552493e+00,  6.59061964e-01,\n",
       "       -2.62412945e-01, -8.13628297e-01, -6.67125990e-01, -5.22694492e-01,\n",
       "       -3.99065428e-01, -2.96700643e-01, -2.12626224e-01, -1.48693958e-01,\n",
       "       -9.68957284e-02, -5.09310889e-02, -2.02144293e-02, -4.08251693e-03,\n",
       "       -4.08251693e-03, -6.00490574e-03, -3.37063471e-02, -7.89724505e-02,\n",
       "       -1.47741377e-01, -2.43250250e-01, -8.30458387e-02,  1.56042653e+00,\n",
       "        1.61327333e+00,  1.60667106e+00,  1.37992544e+00,  1.23963346e+00,\n",
       "        1.16030302e+00,  6.21560395e-01, -3.61925123e-01, -8.82206990e-01,\n",
       "       -8.17668173e-01, -6.64655910e-01, -5.23595080e-01, -4.02142028e-01,\n",
       "       -3.03069160e-01, -2.21680844e-01, -1.59365935e-01, -1.10060699e-01,\n",
       "       -7.00397650e-02, -3.71356228e-02, -1.22014099e-02, -4.08251693e-03,\n",
       "        0.00000000e+00,  0.00000000e+00, -2.27387266e-02, -5.19053972e-02,\n",
       "        3.07386858e+00,  5.60859323e+00,  4.62960950e+00,  3.53861155e+00,\n",
       "        2.59001419e+00,  2.02823973e+00,  1.68064378e+00,  1.39229082e+00,\n",
       "        3.01200685e-01, -7.99993648e-01, -8.39748579e-01, -7.34655534e-01,\n",
       "       -6.12575711e-01, -4.92071188e-01, -3.79928167e-01, -2.88817393e-01,\n",
       "       -2.13440937e-01, -1.53667782e-01, -1.09126008e-01, -7.40987562e-02,\n",
       "       -4.33171851e-02, -1.93437920e-02, -1.04024820e-02,  0.00000000e+00,\n",
       "        0.00000000e+00,  0.00000000e+00, -1.03527008e-02, -2.87501024e-02,\n",
       "        1.43442321e+01,  1.49676659e+01,  9.09224842e+00,  5.95866001e+00,\n",
       "        3.52099754e+00,  1.54840932e+00,  1.15868445e+00, -3.51803603e-01,\n",
       "       -5.66505989e-01, -5.62783656e-01, -5.27164696e-01, -4.68057397e-01,\n",
       "       -3.95805045e-01, -3.24789446e-01, -2.55705032e-01, -1.94611712e-01,\n",
       "       -1.44574205e-01, -1.01773543e-01, -7.14252227e-02, -4.77777569e-02,\n",
       "       -2.57524359e-02, -1.13794237e-02, -4.75287492e-03,  0.00000000e+00,\n",
       "        0.00000000e+00,  0.00000000e+00, -6.66430111e-03, -1.09642132e-02,\n",
       "       -2.76044516e-02, -5.15536012e-02, -8.67718458e-02, -1.28392033e-01,\n",
       "       -1.75775898e-01, -2.23054438e-01, -2.66640286e-01, -2.94844315e-01,\n",
       "       -3.07505433e-01, -3.05180122e-01, -2.89231779e-01, -2.63231291e-01,\n",
       "       -2.33723589e-01, -2.01027824e-01, -1.63691052e-01, -1.27665996e-01,\n",
       "       -9.39651393e-02, -6.56832591e-02, -4.59265310e-02, -2.87188097e-02,\n",
       "       -1.56930365e-02, -5.67530616e-03, -4.08251693e-03,  0.00000000e+00,\n",
       "        0.00000000e+00,  0.00000000e+00,  0.00000000e+00, -4.08251693e-03,\n",
       "       -1.51213939e-02, -3.13695545e-02, -5.33302349e-02, -7.92282669e-02,\n",
       "       -1.08376650e-01, -1.33979068e-01, -1.57513181e-01, -1.75105513e-01,\n",
       "       -1.82626897e-01, -1.80535341e-01, -1.69876491e-01, -1.53157314e-01,\n",
       "       -1.35433124e-01, -1.16480299e-01, -9.39512541e-02, -7.25768871e-02,\n",
       "       -5.23643597e-02, -3.63829995e-02, -2.15030637e-02, -1.30192791e-02,\n",
       "       -4.49421517e-03, -4.08251693e-03,  0.00000000e+00,  0.00000000e+00,\n",
       "        0.00000000e+00,  0.00000000e+00,  0.00000000e+00,  0.00000000e+00,\n",
       "       -5.79016363e-03, -9.05384592e-03, -1.60054430e-02, -2.21197601e-02,\n",
       "       -2.68459958e-02, -3.18450632e-02, -4.37484087e-02, -4.72829474e-02,\n",
       "       -5.31388046e-02, -5.66228194e-02, -6.03383556e-02, -5.62950014e-02,\n",
       "       -5.13665378e-02, -4.26322798e-02, -3.31710271e-02, -2.24628830e-02,\n",
       "       -1.60690870e-02, -1.14322028e-02, -9.00729450e-03, -5.77039393e-03,\n",
       "        0.00000000e+00,  0.00000000e+00,  0.00000000e+00,  0.00000000e+00])"
      ]
     },
     "execution_count": 28,
     "metadata": {},
     "output_type": "execute_result"
    }
   ],
   "source": [
    "x_trained_scaled[0]"
   ]
  },
  {
   "cell_type": "code",
   "execution_count": 29,
   "id": "ef370c85-f04f-452e-81ca-c2f978dcddb8",
   "metadata": {},
   "outputs": [],
   "source": [
    "#so we got the required one dimentional array"
   ]
  },
  {
   "cell_type": "code",
   "execution_count": null,
   "id": "00c43e6f-d5be-45b3-a7fc-77a9c652cf23",
   "metadata": {},
   "outputs": [],
   "source": []
  },
  {
   "cell_type": "code",
   "execution_count": 30,
   "id": "37316d3e-29cc-401b-bf56-6fdd2e2c066d",
   "metadata": {},
   "outputs": [],
   "source": [
    "## now we need to convert the x_test aswell"
   ]
  },
  {
   "cell_type": "code",
   "execution_count": null,
   "id": "6e34b605-ac7a-41ee-8a47-b73b1c1c12bf",
   "metadata": {},
   "outputs": [],
   "source": []
  },
  {
   "cell_type": "code",
   "execution_count": null,
   "id": "c633e22d-b9f8-49b6-a494-c6c1d6139e19",
   "metadata": {},
   "outputs": [],
   "source": []
  },
  {
   "cell_type": "code",
   "execution_count": 31,
   "id": "d023e42a-1348-4f94-921d-e13122d34e39",
   "metadata": {},
   "outputs": [
    {
     "data": {
      "text/plain": [
       "(10000, 784)"
      ]
     },
     "execution_count": 31,
     "metadata": {},
     "output_type": "execute_result"
    }
   ],
   "source": [
    "x_test_reshape.shape"
   ]
  },
  {
   "cell_type": "code",
   "execution_count": 32,
   "id": "a0e02ae4-96d9-4618-a50b-b48039b06fe8",
   "metadata": {},
   "outputs": [
    {
     "name": "stderr",
     "output_type": "stream",
     "text": [
      "C:\\Users\\BHANU PRASAD\\anaconda3\\Lib\\site-packages\\keras\\src\\layers\\core\\dense.py:87: UserWarning: Do not pass an `input_shape`/`input_dim` argument to a layer. When using Sequential models, prefer using an `Input(shape)` object as the first layer in the model instead.\n",
      "  super().__init__(activity_regularizer=activity_regularizer, **kwargs)\n"
     ]
    },
    {
     "name": "stdout",
     "output_type": "stream",
     "text": [
      "Epoch 1/5\n",
      "\u001b[1m1875/1875\u001b[0m \u001b[32m━━━━━━━━━━━━━━━━━━━━\u001b[0m\u001b[37m\u001b[0m \u001b[1m4s\u001b[0m 2ms/step - accuracy: 0.7721 - loss: 17.7136\n",
      "Epoch 2/5\n",
      "\u001b[1m1875/1875\u001b[0m \u001b[32m━━━━━━━━━━━━━━━━━━━━\u001b[0m\u001b[37m\u001b[0m \u001b[1m5s\u001b[0m 1ms/step - accuracy: 0.8771 - loss: 6.1318\n",
      "Epoch 3/5\n",
      "\u001b[1m1875/1875\u001b[0m \u001b[32m━━━━━━━━━━━━━━━━━━━━\u001b[0m\u001b[37m\u001b[0m \u001b[1m3s\u001b[0m 1ms/step - accuracy: 0.8857 - loss: 5.4484\n",
      "Epoch 4/5\n",
      "\u001b[1m1875/1875\u001b[0m \u001b[32m━━━━━━━━━━━━━━━━━━━━\u001b[0m\u001b[37m\u001b[0m \u001b[1m3s\u001b[0m 1ms/step - accuracy: 0.8885 - loss: 5.2818\n",
      "Epoch 5/5\n",
      "\u001b[1m1875/1875\u001b[0m \u001b[32m━━━━━━━━━━━━━━━━━━━━\u001b[0m\u001b[37m\u001b[0m \u001b[1m5s\u001b[0m 1ms/step - accuracy: 0.8881 - loss: 5.2402\n"
     ]
    },
    {
     "data": {
      "text/plain": [
       "<keras.src.callbacks.history.History at 0x262af3531a0>"
      ]
     },
     "execution_count": 32,
     "metadata": {},
     "output_type": "execute_result"
    }
   ],
   "source": [
    "model=keras.Sequential([\n",
    "    keras.layers.Dense(10,input_shape=(784,),activation='sigmoid')\n",
    "])\n",
    "model.compile(\n",
    "    optimizer='adam',\n",
    "    loss='sparse_categorical_crossentropy',\n",
    "    metrics=['accuracy']\n",
    ")\n",
    "model.fit(x_train_reshape,y_train,epochs=5)"
   ]
  },
  {
   "cell_type": "code",
   "execution_count": null,
   "id": "25035e6e-ed36-42dc-a567-12c4edf93a9d",
   "metadata": {},
   "outputs": [],
   "source": []
  },
  {
   "cell_type": "code",
   "execution_count": 33,
   "id": "a276dcf3-55c5-4082-be97-64f33869600d",
   "metadata": {},
   "outputs": [],
   "source": [
    "model2=keras.Sequential([\n",
    "    keras.layers.Dense(10,input_shape=(784,),activation='sigmoid')\n",
    "])\n",
    "model2.compile(\n",
    "    optimizer='adam',\n",
    "    loss='sparse_categorical_crossentropy',\n",
    "    metrics=['accuracy']\n",
    ")"
   ]
  },
  {
   "cell_type": "code",
   "execution_count": 34,
   "id": "9cdce184-42ba-4e14-a43c-dbed98f003f5",
   "metadata": {},
   "outputs": [
    {
     "name": "stdout",
     "output_type": "stream",
     "text": [
      "Epoch 1/5\n",
      "\u001b[1m1875/1875\u001b[0m \u001b[32m━━━━━━━━━━━━━━━━━━━━\u001b[0m\u001b[37m\u001b[0m \u001b[1m4s\u001b[0m 2ms/step - accuracy: 0.8294 - loss: 0.6193\n",
      "Epoch 2/5\n",
      "\u001b[1m1875/1875\u001b[0m \u001b[32m━━━━━━━━━━━━━━━━━━━━\u001b[0m\u001b[37m\u001b[0m \u001b[1m3s\u001b[0m 1ms/step - accuracy: 0.9166 - loss: 0.3181\n",
      "Epoch 3/5\n",
      "\u001b[1m1875/1875\u001b[0m \u001b[32m━━━━━━━━━━━━━━━━━━━━\u001b[0m\u001b[37m\u001b[0m \u001b[1m3s\u001b[0m 1ms/step - accuracy: 0.9260 - loss: 0.2807\n",
      "Epoch 4/5\n",
      "\u001b[1m1875/1875\u001b[0m \u001b[32m━━━━━━━━━━━━━━━━━━━━\u001b[0m\u001b[37m\u001b[0m \u001b[1m3s\u001b[0m 1ms/step - accuracy: 0.9285 - loss: 0.2675\n",
      "Epoch 5/5\n",
      "\u001b[1m1875/1875\u001b[0m \u001b[32m━━━━━━━━━━━━━━━━━━━━\u001b[0m\u001b[37m\u001b[0m \u001b[1m5s\u001b[0m 1ms/step - accuracy: 0.9275 - loss: 0.2650\n"
     ]
    },
    {
     "data": {
      "text/plain": [
       "<keras.src.callbacks.history.History at 0x262cb05cb60>"
      ]
     },
     "execution_count": 34,
     "metadata": {},
     "output_type": "execute_result"
    }
   ],
   "source": [
    "model2.fit(x_trained_scaled,y_train,epochs=5)"
   ]
  },
  {
   "cell_type": "code",
   "execution_count": 35,
   "id": "a423d761-4d88-45fd-871a-c0640a6bfd03",
   "metadata": {},
   "outputs": [
    {
     "name": "stdout",
     "output_type": "stream",
     "text": [
      "\u001b[1m313/313\u001b[0m \u001b[32m━━━━━━━━━━━━━━━━━━━━\u001b[0m\u001b[37m\u001b[0m \u001b[1m1s\u001b[0m 2ms/step - accuracy: 0.9095 - loss: 0.3789\n"
     ]
    },
    {
     "data": {
      "text/plain": [
       "[0.3502402901649475, 0.9221000075340271]"
      ]
     },
     "execution_count": 35,
     "metadata": {},
     "output_type": "execute_result"
    }
   ],
   "source": [
    "#to evaluate the model\n",
    "model2.evaluate(x_test_scaled,y_test)"
   ]
  },
  {
   "cell_type": "code",
   "execution_count": 36,
   "id": "e0c3aeca-7a46-426a-bd14-393d8156bcf7",
   "metadata": {},
   "outputs": [
    {
     "name": "stdout",
     "output_type": "stream",
     "text": [
      "\u001b[1m313/313\u001b[0m \u001b[32m━━━━━━━━━━━━━━━━━━━━\u001b[0m\u001b[37m\u001b[0m \u001b[1m1s\u001b[0m 1ms/step\n"
     ]
    }
   ],
   "source": [
    "predicted=model2.predict(x_test_scaled)"
   ]
  },
  {
   "cell_type": "code",
   "execution_count": 37,
   "id": "effc3406-e9d1-4752-8849-b4a069280427",
   "metadata": {},
   "outputs": [
    {
     "data": {
      "text/plain": [
       "array([8.6088455e-01, 1.0640521e-03, 2.9383216e-04, 9.9938971e-01,\n",
       "       1.2763272e-01, 8.4433281e-01, 4.4274884e-03, 9.9999899e-01,\n",
       "       2.1274057e-01, 9.7873950e-01], dtype=float32)"
      ]
     },
     "execution_count": 37,
     "metadata": {},
     "output_type": "execute_result"
    }
   ],
   "source": [
    "predicted[0]"
   ]
  },
  {
   "cell_type": "code",
   "execution_count": 38,
   "id": "18fbf7da-ed5b-4802-bef0-7a5fc5e2343f",
   "metadata": {},
   "outputs": [
    {
     "data": {
      "text/plain": [
       "7"
      ]
     },
     "execution_count": 38,
     "metadata": {},
     "output_type": "execute_result"
    }
   ],
   "source": [
    "np.argmax(predicted[0])"
   ]
  },
  {
   "cell_type": "code",
   "execution_count": 39,
   "id": "ef2fd245-0cad-4414-bd4a-900f282edc88",
   "metadata": {},
   "outputs": [
    {
     "data": {
      "text/plain": [
       "<matplotlib.image.AxesImage at 0x262ce0dd2b0>"
      ]
     },
     "execution_count": 39,
     "metadata": {},
     "output_type": "execute_result"
    },
    {
     "data": {
      "image/png": "[encoded data removed]",
      "text/plain": [
       "<Figure size 480x480 with 1 Axes>"
      ]
     },
     "metadata": {},
     "output_type": "display_data"
    }
   ],
   "source": [
    "plt.matshow(x_test[0])"
   ]
  },
  {
   "cell_type": "code",
   "execution_count": 40,
   "id": "02b6cd14-7d72-4fb8-b18e-289378485155",
   "metadata": {},
   "outputs": [
    {
     "data": {
      "text/plain": [
       "array([9.7650820e-01, 9.2815852e-01, 9.9999923e-01, 5.2064847e-10,\n",
       "       7.5122498e-11, 9.9996501e-01, 9.9995285e-01, 4.4530707e-10,\n",
       "       4.3316236e-15, 5.1780341e-13], dtype=float32)"
      ]
     },
     "execution_count": 40,
     "metadata": {},
     "output_type": "execute_result"
    }
   ],
   "source": [
    "predicted[1]"
   ]
  },
  {
   "cell_type": "code",
   "execution_count": 41,
   "id": "0e3105ad-987b-436f-82a6-716fc289a1bf",
   "metadata": {},
   "outputs": [
    {
     "data": {
      "text/plain": [
       "2"
      ]
     },
     "execution_count": 41,
     "metadata": {},
     "output_type": "execute_result"
    }
   ],
   "source": [
    "np.argmax(predicted[1])"
   ]
  },
  {
   "cell_type": "code",
   "execution_count": 42,
   "id": "a514385b-eca5-4586-919b-10606bda9ab1",
   "metadata": {},
   "outputs": [
    {
     "data": {
      "text/plain": [
       "<matplotlib.image.AxesImage at 0x262cb3999a0>"
      ]
     },
     "execution_count": 42,
     "metadata": {},
     "output_type": "execute_result"
    },
    {
     "data": {
      "image/png": "[encoded data removed]",
      "text/plain": [
       "<Figure size 480x480 with 1 Axes>"
      ]
     },
     "metadata": {},
     "output_type": "display_data"
    }
   ],
   "source": [
    "plt.matshow(x_test[1])"
   ]
  },
  {
   "cell_type": "code",
   "execution_count": 43,
   "id": "51b1135f-c970-4461-917c-35429e7889cd",
   "metadata": {},
   "outputs": [],
   "source": [
    "# addin the hidden layers improve the performance of the mode"
   ]
  },
  {
   "cell_type": "code",
   "execution_count": 44,
   "id": "b7f82caf-c15f-4f3b-b2f4-d446aea7f243",
   "metadata": {},
   "outputs": [],
   "source": [
    "model3=keras.Sequential([\n",
    "    keras.layers.Dense(100,input_shape=(784,),activation='relu'),\n",
    "    keras.layers.Dense(10,activation='relu')\n",
    "])"
   ]
  },
  {
   "cell_type": "code",
   "execution_count": 45,
   "id": "266c7402-60af-4bba-bca7-af4d84573f08",
   "metadata": {},
   "outputs": [],
   "source": [
    "model3.compile(\n",
    "    optimizer='adam',\n",
    "    loss='sparse_categorical_crossentropy',\n",
    "    metrics=['accuracy'])"
   ]
  },
  {
   "cell_type": "code",
   "execution_count": 46,
   "id": "6861f9b9-2956-4049-b626-00001e0e3a50",
   "metadata": {},
   "outputs": [
    {
     "name": "stdout",
     "output_type": "stream",
     "text": [
      "Epoch 1/5\n",
      "\u001b[1m1875/1875\u001b[0m \u001b[32m━━━━━━━━━━━━━━━━━━━━\u001b[0m\u001b[37m\u001b[0m \u001b[1m3s\u001b[0m 2ms/step - accuracy: 0.9323 - loss: 0.2516\n",
      "Epoch 2/5\n",
      "\u001b[1m1875/1875\u001b[0m \u001b[32m━━━━━━━━━━━━━━━━━━━━\u001b[0m\u001b[37m\u001b[0m \u001b[1m3s\u001b[0m 1ms/step - accuracy: 0.9288 - loss: 0.2578\n",
      "Epoch 3/5\n",
      "\u001b[1m1875/1875\u001b[0m \u001b[32m━━━━━━━━━━━━━━━━━━━━\u001b[0m\u001b[37m\u001b[0m \u001b[1m3s\u001b[0m 1ms/step - accuracy: 0.9312 - loss: 0.2465\n",
      "Epoch 4/5\n",
      "\u001b[1m1875/1875\u001b[0m \u001b[32m━━━━━━━━━━━━━━━━━━━━\u001b[0m\u001b[37m\u001b[0m \u001b[1m5s\u001b[0m 2ms/step - accuracy: 0.9314 - loss: 0.2475\n",
      "Epoch 5/5\n",
      "\u001b[1m1875/1875\u001b[0m \u001b[32m━━━━━━━━━━━━━━━━━━━━\u001b[0m\u001b[37m\u001b[0m \u001b[1m5s\u001b[0m 1ms/step - accuracy: 0.9320 - loss: 0.2515\n"
     ]
    },
    {
     "data": {
      "text/plain": [
       "<keras.src.callbacks.history.History at 0x262ce0dfd10>"
      ]
     },
     "execution_count": 46,
     "metadata": {},
     "output_type": "execute_result"
    }
   ],
   "source": [
    "# model3.fit(x_trained_scaled,y_train,epochs=5)\n",
    "model2.fit(x_trained_scaled,y_train,epochs=5)"
   ]
  },
  {
   "cell_type": "code",
   "execution_count": 47,
   "id": "0699a69e-003c-4671-b3be-f295f1095191",
   "metadata": {},
   "outputs": [],
   "source": [
    "# alternate way of reshaping or flattening the input shape"
   ]
  },
  {
   "cell_type": "code",
   "execution_count": 48,
   "id": "31c4dd82-25f7-47f4-96b1-9fc483988ea5",
   "metadata": {},
   "outputs": [
    {
     "name": "stdout",
     "output_type": "stream",
     "text": [
      "Epoch 1/5\n"
     ]
    },
    {
     "name": "stderr",
     "output_type": "stream",
     "text": [
      "C:\\Users\\BHANU PRASAD\\anaconda3\\Lib\\site-packages\\keras\\src\\layers\\reshaping\\flatten.py:37: UserWarning: Do not pass an `input_shape`/`input_dim` argument to a layer. When using Sequential models, prefer using an `Input(shape)` object as the first layer in the model instead.\n",
      "  super().__init__(**kwargs)\n"
     ]
    },
    {
     "name": "stdout",
     "output_type": "stream",
     "text": [
      "\u001b[1m1875/1875\u001b[0m \u001b[32m━━━━━━━━━━━━━━━━━━━━\u001b[0m\u001b[37m\u001b[0m \u001b[1m7s\u001b[0m 3ms/step - accuracy: 0.7718 - loss: 0.8333\n",
      "Epoch 2/5\n",
      "\u001b[1m1875/1875\u001b[0m \u001b[32m━━━━━━━━━━━━━━━━━━━━\u001b[0m\u001b[37m\u001b[0m \u001b[1m5s\u001b[0m 3ms/step - accuracy: 0.8885 - loss: 0.3742\n",
      "Epoch 3/5\n",
      "\u001b[1m1875/1875\u001b[0m \u001b[32m━━━━━━━━━━━━━━━━━━━━\u001b[0m\u001b[37m\u001b[0m \u001b[1m5s\u001b[0m 3ms/step - accuracy: 0.8997 - loss: 0.3381\n",
      "Epoch 4/5\n",
      "\u001b[1m1875/1875\u001b[0m \u001b[32m━━━━━━━━━━━━━━━━━━━━\u001b[0m\u001b[37m\u001b[0m \u001b[1m5s\u001b[0m 3ms/step - accuracy: 0.9052 - loss: 0.3241\n",
      "Epoch 5/5\n",
      "\u001b[1m1875/1875\u001b[0m \u001b[32m━━━━━━━━━━━━━━━━━━━━\u001b[0m\u001b[37m\u001b[0m \u001b[1m5s\u001b[0m 3ms/step - accuracy: 0.9043 - loss: 0.3157\n"
     ]
    },
    {
     "data": {
      "text/plain": [
       "<keras.src.callbacks.history.History at 0x262cb3c6390>"
      ]
     },
     "execution_count": 48,
     "metadata": {},
     "output_type": "execute_result"
    }
   ],
   "source": [
    "model4=keras.Sequential([\n",
    "    keras.layers.Flatten(input_shape=(28,28)),\n",
    "    keras.layers.Dense(100,activation='sigmoid'),\n",
    "    keras.layers.Dense(10,activation='sigmoid')\n",
    "])\n",
    "model4.compile(\n",
    "    optimizer='adam',\n",
    "    loss='sparse_categorical_crossentropy',\n",
    "    metrics=['accuracy']\n",
    ")\n",
    "model4.fit(x_train,y_train,epochs=5)"
   ]
  },
  {
   "cell_type": "code",
   "execution_count": 51,
   "id": "76e07baa-9f59-4297-b2bd-e40f49246642",
   "metadata": {},
   "outputs": [
    {
     "name": "stdout",
     "output_type": "stream",
     "text": [
      "Epoch 1/5\n",
      "\u001b[1m1875/1875\u001b[0m \u001b[32m━━━━━━━━━━━━━━━━━━━━\u001b[0m\u001b[37m\u001b[0m \u001b[1m9s\u001b[0m 4ms/step - accuracy: 0.7933 - loss: 6.0562\n",
      "Epoch 2/5\n",
      "\u001b[1m1875/1875\u001b[0m \u001b[32m━━━━━━━━━━━━━━━━━━━━\u001b[0m\u001b[37m\u001b[0m \u001b[1m9s\u001b[0m 4ms/step - accuracy: 0.9000 - loss: 0.4102\n",
      "Epoch 3/5\n",
      "\u001b[1m1875/1875\u001b[0m \u001b[32m━━━━━━━━━━━━━━━━━━━━\u001b[0m\u001b[37m\u001b[0m \u001b[1m7s\u001b[0m 4ms/step - accuracy: 0.9264 - loss: 0.2824\n",
      "Epoch 4/5\n",
      "\u001b[1m1875/1875\u001b[0m \u001b[32m━━━━━━━━━━━━━━━━━━━━\u001b[0m\u001b[37m\u001b[0m \u001b[1m10s\u001b[0m 4ms/step - accuracy: 0.9335 - loss: 0.2514\n",
      "Epoch 5/5\n",
      "\u001b[1m1875/1875\u001b[0m \u001b[32m━━━━━━━━━━━━━━━━━━━━\u001b[0m\u001b[37m\u001b[0m \u001b[1m7s\u001b[0m 4ms/step - accuracy: 0.9400 - loss: 0.2355\n"
     ]
    },
    {
     "data": {
      "text/plain": [
       "<keras.src.callbacks.history.History at 0x262cdd83ec0>"
      ]
     },
     "execution_count": 51,
     "metadata": {},
     "output_type": "execute_result"
    }
   ],
   "source": [
    "model4=keras.Sequential([\n",
    "    keras.layers.Flatten(input_shape=(28,28)),\n",
    "    keras.layers.Dense(100,activation='relu'),\n",
    "    keras.layers.Dense(10,activation='sigmoid')\n",
    "])\n",
    "tb_callback=tf.keras.callbacks.TensorBoard(log_dir='logs/',histogram_freq=1)\n",
    "\n",
    "model4.compile(\n",
    "    optimizer='adam',\n",
    "    loss='sparse_categorical_crossentropy',\n",
    "    metrics=['accuracy']\n",
    ")\n",
    "model4.fit(x_train,y_train,epochs=5,callbacks=[tb_callback])"
   ]
  },
  {
   "cell_type": "code",
   "execution_count": null,
   "id": "72e802c4-9c66-4a74-bb6e-8c28a2417e74",
   "metadata": {},
   "outputs": [],
   "source": []
  },
  {
   "cell_type": "code",
   "execution_count": null,
   "id": "84e73ffd-3b84-4bd5-ad52-c0ec4452efd9",
   "metadata": {},
   "outputs": [],
   "source": []
  }
 ],
 "metadata": {
  "kernelspec": {
   "display_name": "Python 3 (ipykernel)",
   "language": "python",
   "name": "python3"
  },
  "language_info": {
   "codemirror_mode": {
    "name": "ipython",
    "version": 3
   },
   "file_extension": ".py",
   "mimetype": "text/x-python",
   "name": "python",
   "nbconvert_exporter": "python",
   "pygments_lexer": "ipython3",
   "version": "3.12.4"
  }
 },
 "nbformat": 4,
 "nbformat_minor": 5
}
